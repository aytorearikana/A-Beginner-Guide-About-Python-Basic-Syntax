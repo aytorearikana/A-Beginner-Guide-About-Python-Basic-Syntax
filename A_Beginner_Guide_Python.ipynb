{
 "cells": [
  {
   "cell_type": "markdown",
   "metadata": {},
   "source": [
    "A BEGINNER GUIDE PYTHON\n"
   ]
  },
  {
   "cell_type": "raw",
   "metadata": {},
   "source": [
    "In this notebook, my aim is to share what I learn about basic python knowledge."
   ]
  },
  {
   "cell_type": "raw",
   "metadata": {},
   "source": [
    "Concatenation in Python - Combining strings/ints"
   ]
  },
  {
   "cell_type": "code",
   "execution_count": 1,
   "metadata": {},
   "outputs": [
    {
     "name": "stdout",
     "output_type": "stream",
     "text": [
      "hello 42 there\n"
     ]
    }
   ],
   "source": [
    "x = 'hello'\n",
    "y= 42\n",
    "z= 'there'\n",
    "print(x,y,z)"
   ]
  },
  {
   "cell_type": "code",
   "execution_count": 4,
   "metadata": {},
   "outputs": [
    {
     "name": "stdout",
     "output_type": "stream",
     "text": [
      "hello 42 there\n"
     ]
    }
   ],
   "source": [
    "print(x+' '+str(y)+' '+z) \n",
    "#by adding str in front of y, I converted integer to string"
   ]
  },
  {
   "cell_type": "raw",
   "metadata": {},
   "source": [
    "Quotations in Strings"
   ]
  },
  {
   "cell_type": "code",
   "execution_count": 6,
   "metadata": {},
   "outputs": [
    {
     "name": "stdout",
     "output_type": "stream",
     "text": [
      "let's go\n",
      "let\"s go\n",
      "let's go\n"
     ]
    }
   ],
   "source": [
    "print(\"let's go\")\n",
    "print(\"let\\\"s go\")\n",
    "print(\"let\\'s go\")\n",
    "#we used \\ to print the symbol that we want to see"
   ]
  },
  {
   "cell_type": "raw",
   "metadata": {},
   "source": [
    "While Loop"
   ]
  },
  {
   "cell_type": "code",
   "execution_count": 7,
   "metadata": {},
   "outputs": [
    {
     "name": "stdout",
     "output_type": "stream",
     "text": [
      "x is less than 5\n",
      "x is less than 5\n",
      "x is less than 5\n",
      "x is less than 5\n"
     ]
    }
   ],
   "source": [
    "x = 1\n",
    "#first we defined the variable.\n",
    "while x < 5:\n",
    "    print(\"x is less than 5\")\n",
    "    x+=1\n",
    "#secondly we define the condition that we want to be processed while our defined variable satisfy the condition."
   ]
  },
  {
   "cell_type": "raw",
   "metadata": {},
   "source": [
    "For Loop"
   ]
  },
  {
   "cell_type": "code",
   "execution_count": 8,
   "metadata": {},
   "outputs": [
    {
     "name": "stdout",
     "output_type": "stream",
     "text": [
      "the first letter in my name is a\n",
      "the first letter in my name is b\n",
      "the first letter in my name is c\n",
      "the first letter in my name is d\n"
     ]
    }
   ],
   "source": [
    "x = ['a', 'b', 'c' , 'd']\n",
    "#we write the variables inside the array\n",
    "for item in x:\n",
    "    print(\"the first letter in my name is\", item)"
   ]
  },
  {
   "cell_type": "code",
   "execution_count": null,
   "metadata": {},
   "outputs": [],
   "source": []
  }
 ],
 "metadata": {
  "kernelspec": {
   "display_name": "Python 3",
   "language": "python",
   "name": "python3"
  },
  "language_info": {
   "codemirror_mode": {
    "name": "ipython",
    "version": 3
   },
   "file_extension": ".py",
   "mimetype": "text/x-python",
   "name": "python",
   "nbconvert_exporter": "python",
   "pygments_lexer": "ipython3",
   "version": "3.8.5"
  }
 },
 "nbformat": 4,
 "nbformat_minor": 4
}
